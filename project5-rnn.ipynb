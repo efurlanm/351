{
 "cells": [
  {
   "cell_type": "markdown",
   "id": "1b601ec1-c18b-458c-99f6-b9ea6b4b3012",
   "metadata": {},
   "source": [
    "# ANN RNN Project - LSTM"
   ]
  },
  {
   "cell_type": "markdown",
   "id": "eaa2b083-37b8-40b7-96d9-14068bd9ff8e",
   "metadata": {},
   "source": [
    "*Long Short Term Memory* (LSTM) are recurrent neural networks (RNN) that \"remember\" values at certain intervals, and are suitable for classifying, processing, and predicting time series."
   ]
  },
  {
   "cell_type": "markdown",
   "id": "35295179-aa58-4f98-899e-7e20f29df152",
   "metadata": {},
   "source": [
    "For this project, the task chosen was forecasting. The model receives data from a time series (car sales dataset) and predicts a future value. A 5-month window was chosen. For the forecast, the last 6 months of the dataset were chosen, and the last month is the month we want to forecast, and in this way we can compare the predicted with the actual."
   ]
  },
  {
   "cell_type": "markdown",
   "id": "82bc0123-02ca-411c-92e5-5d2f881a207b",
   "metadata": {},
   "source": [
    "## Dataset"
   ]
  },
  {
   "cell_type": "markdown",
   "id": "82779295-743c-4db6-ab3f-5f21ac1af1ed",
   "metadata": {},
   "source": [
    "The monthly car sales dataset describes the number of car sales in Quebec, Canada, between 1960 and 1968, in thousands of units. Units are a count of the number of sales and there are 108 observations. Data sources are [6], [7] and [8]. The first 5 lines of the .csv file dataset are:\n",
    "\n",
    "     \"Month\",\"Sales\"\n",
    "     \"1960-01\",6550\n",
    "     \"1960-02\",8728\n",
    "     \"1960-03\",12026\n",
    "     \"1960-04\",14395\n",
    "\n",
    "\n",
    "Dataset links:\n",
    "\n",
    "- https://raw.githubusercontent.com/jbrownlee/Datasets/master/monthly-car-sales.csv\n",
    "- https://www.kaggle.com/datasets/dinirimameev/monthly-car-sales-in-quebec-1960"
   ]
  },
  {
   "cell_type": "markdown",
   "id": "02baa485-bbf7-45bc-b363-c8b69ebd89b4",
   "metadata": {},
   "source": [
    "## Library"
   ]
  },
  {
   "cell_type": "code",
   "execution_count": 3,
   "id": "c23c6c02-7a21-462e-a3f6-0700daaa6b17",
   "metadata": {},
   "outputs": [],
   "source": [
    "import numpy as np\n",
    "from numpy import sqrt\n",
    "from numpy import asarray\n",
    "from pandas import read_csv\n",
    "import os\n",
    "import random as python_random\n",
    "import tensorflow as tf\n",
    "from tensorflow.keras import Sequential\n",
    "from tensorflow.keras.layers import Dense\n",
    "from tensorflow.keras.layers import LSTM\n",
    "from tensorflow.keras.utils import plot_model\n",
    "from matplotlib import pyplot\n",
    "import matplotlib.pyplot as plt"
   ]
  },
  {
   "cell_type": "markdown",
   "id": "d86b2647-1b3b-4539-ab63-0510787651d9",
   "metadata": {},
   "source": [
    "## Auxiliary functions"
   ]
  },
  {
   "cell_type": "code",
   "execution_count": 35,
   "id": "ec03bba4-8274-4b7a-8154-f74a77819d1e",
   "metadata": {},
   "outputs": [],
   "source": [
    "def rseed():\n",
    "    random_seed = 123\n",
    "    python_random.seed(random_seed)\n",
    "    np.random.seed(random_seed)\n",
    "    tf.random.set_seed(random_seed)\n",
    "    os.environ['PYTHONHASHSEED'] = str(random_seed)\n",
    "rseed()"
   ]
  },
  {
   "cell_type": "code",
   "execution_count": 36,
   "id": "79e0d74b-20c1-4667-9473-9322d3d191de",
   "metadata": {},
   "outputs": [],
   "source": [
    "def curva():\n",
    "    plt.title('Learning Curves')\n",
    "    plt.xlabel('Epoch')\n",
    "    plt.ylabel('Cross Entropy')\n",
    "    plt.plot(history.history['loss'], label='train')\n",
    "    plt.plot(history.history['val_loss'], label='val')\n",
    "    plt.legend()\n",
    "    plt.show()"
   ]
  },
  {
   "cell_type": "markdown",
   "id": "2a97a05a-8b31-4705-a1e7-dd4caceb4a6b",
   "metadata": {},
   "source": [
    "Function that divides a univariate sequence into samples:"
   ]
  },
  {
   "cell_type": "code",
   "execution_count": 7,
   "id": "ab698a00-14c6-4eca-a999-3679e56d6f1a",
   "metadata": {},
   "outputs": [],
   "source": [
    "def split_sequence(sequence, n_steps):\n",
    "    X, y = list(), list()\n",
    "    for i in range(len(sequence)):\n",
    "        # find the end of this pattern\n",
    "        end_ix = i + n_steps\n",
    "        # check if we are beyond the sequence\n",
    "        if end_ix > len(sequence) - 1:\n",
    "            break\n",
    "        # gather input and output parts of the pattern\n",
    "        seq_x, seq_y = sequence[i:end_ix], sequence[end_ix]\n",
    "        X.append(seq_x)\n",
    "        y.append(seq_y)\n",
    "    return asarray(X), asarray(y)"
   ]
  },
  {
   "cell_type": "markdown",
   "id": "abe2d8c3-7ef7-4904-93ef-393181576e9b",
   "metadata": {},
   "source": [
    "Load the dataset:"
   ]
  },
  {
   "cell_type": "code",
   "execution_count": 8,
   "id": "e5bdb127-7004-455e-9694-eb3fdf878953",
   "metadata": {},
   "outputs": [],
   "source": [
    "path = 'https://raw.githubusercontent.com/jbrownlee/Datasets/master/monthly-car-sales.csv'\n",
    "df = read_csv(path, header=0, index_col=0).squeeze(\"columns\")"
   ]
  },
  {
   "cell_type": "code",
   "execution_count": 9,
   "id": "a72944b8-7eea-41a6-8cc5-045da90015af",
   "metadata": {},
   "outputs": [
    {
     "name": "stdout",
     "output_type": "stream",
     "text": [
      "Month\n",
      "1960-01     6550\n",
      "1960-02     8728\n",
      "1960-03    12026\n",
      "1960-04    14395\n",
      "1960-05    14587\n",
      "Name: Sales, dtype: int64\n"
     ]
    }
   ],
   "source": [
    "print(df.head(5))"
   ]
  },
  {
   "cell_type": "markdown",
   "id": "b86ab244-fbd5-40e8-b7b3-883460586e92",
   "metadata": {},
   "source": [
    "Get only the values:"
   ]
  },
  {
   "cell_type": "code",
   "execution_count": 10,
   "id": "b972f31d-1e5b-4825-8e33-ab08f1f282d8",
   "metadata": {},
   "outputs": [],
   "source": [
    "values = df.values.astype('float32')"
   ]
  },
  {
   "cell_type": "markdown",
   "id": "416bc97e-cd36-4ff1-a04c-fec708f820b3",
   "metadata": {},
   "source": [
    "Shows the number of new vehicles sold per month in the province of Quebec in Canada, between 1960 and 1968:"
   ]
  },
  {
   "cell_type": "code",
   "execution_count": 11,
   "id": "fd7ad428-7cd1-4403-aafd-5c3d2d2a7325",
   "metadata": {},
   "outputs": [
    {
     "data": {
      "text/plain": [
       "array([ 6550.,  8728., 12026., 14395., 14587., 13791.,  9498.,  8251.,  7049.,  9545.,  9364.,  8456.,\n",
       "        7237.,  9374., 11837., 13784., 15926., 13821., 11143.,  7975.,  7610., 10015., 12759.,  8816.,\n",
       "       10677., 10947., 15200., 17010., 20900., 16205., 12143.,  8997.,  5568., 11474., 12256., 10583.,\n",
       "       10862., 10965., 14405., 20379., 20128., 17816., 12268.,  8642.,  7962., 13932., 15936., 12628.,\n",
       "       12267., 12470., 18944., 21259., 22015., 18581., 15175., 10306., 10792., 14752., 13754., 11738.,\n",
       "       12181., 12965., 19990., 23125., 23541., 21247., 15189., 14767., 10895., 17130., 17697., 16611.,\n",
       "       12674., 12760., 20249., 22135., 20677., 19933., 15388., 15113., 13401., 16135., 17562., 14720.,\n",
       "       12225., 11608., 20985., 19692., 24081., 22114., 14220., 13434., 13598., 17187., 16119., 13713.,\n",
       "       13210., 14251., 20139., 21725., 26099., 21084., 18024., 16722., 14385., 21342., 17180., 14577.],\n",
       "      dtype=float32)"
      ]
     },
     "execution_count": 11,
     "metadata": {},
     "output_type": "execute_result"
    }
   ],
   "source": [
    "np.set_printoptions(linewidth=110)\n",
    "values"
   ]
  },
  {
   "cell_type": "code",
   "execution_count": 12,
   "id": "6adcac57-c5a9-49d6-b8df-c6b274eca430",
   "metadata": {},
   "outputs": [
    {
     "data": {
      "image/png": "[encoded data removed]",
      "text/plain": [
       "<Figure size 432x288 with 1 Axes>"
      ]
     },
     "metadata": {
      "needs_background": "light"
     },
     "output_type": "display_data"
    }
   ],
   "source": [
    "plt.ylabel('milhares de veículos')\n",
    "df.plot();"
   ]
  },
  {
   "cell_type": "markdown",
   "id": "084a3478-d801-41a7-bf83-2aa8cc35f080",
   "metadata": {},
   "source": [
    "The line graph of the data shows both an annual seasonal component and an upward trend."
   ]
  },
  {
   "cell_type": "markdown",
   "id": "1c455b15-cd5f-4a02-a176-592c04e72616",
   "metadata": {},
   "source": [
    "Size of samples to be divided:"
   ]
  },
  {
   "cell_type": "code",
   "execution_count": 13,
   "id": "93b6b2f0-ca94-4b6e-a498-b40524c4b7de",
   "metadata": {},
   "outputs": [],
   "source": [
    "n_steps = 5"
   ]
  },
  {
   "cell_type": "markdown",
   "id": "36036158-d297-48e6-8bbd-cb8c6a5ed477",
   "metadata": {},
   "source": [
    "Selects the numbers 18024.0, 16722.0, 14385.0, 21342.0, 17180.0 that correspond to the last numbers in the dataset, where the value 14577 is the real value that must be predicted:"
   ]
  },
  {
   "cell_type": "code",
   "execution_count": 14,
   "id": "8c160915-e48a-4735-ba64-7e3a3a3159e7",
   "metadata": {},
   "outputs": [],
   "source": [
    "prever = values[-6:-1].reshape(1, n_steps, 1)"
   ]
  },
  {
   "cell_type": "code",
   "execution_count": 15,
   "id": "8c5038e2-53b1-4256-9ec5-c1a6029c8b18",
   "metadata": {},
   "outputs": [],
   "source": [
    "real = values[-1]"
   ]
  },
  {
   "cell_type": "markdown",
   "id": "9f5c8d89-e0c0-4f67-9f0e-2acd004ebf55",
   "metadata": {},
   "source": [
    "Separate the samples:"
   ]
  },
  {
   "cell_type": "code",
   "execution_count": 16,
   "id": "cf6c9df4-c73a-45b3-bb4b-81b53fd523dc",
   "metadata": {},
   "outputs": [],
   "source": [
    "X, y = split_sequence(values, n_steps)"
   ]
  },
  {
   "cell_type": "markdown",
   "id": "b50cfb49-1e90-4328-aae8-046b7a6888d6",
   "metadata": {},
   "source": [
    "Remodels in [samples, timesteps, features] :"
   ]
  },
  {
   "cell_type": "code",
   "execution_count": 17,
   "id": "1e6709ee-1e3f-456f-8732-144380882da3",
   "metadata": {},
   "outputs": [],
   "source": [
    "X = X.reshape((X.shape[0], X.shape[1], 1))"
   ]
  },
  {
   "cell_type": "markdown",
   "id": "4c5e6e0d-f1b3-4758-b5f8-e247bb924a04",
   "metadata": {},
   "source": [
    "The dataset is divided into training and testing :"
   ]
  },
  {
   "cell_type": "code",
   "execution_count": 18,
   "id": "d031efe4-12c1-496d-a44c-61e5e40efc62",
   "metadata": {},
   "outputs": [],
   "source": [
    "n_test = 12"
   ]
  },
  {
   "cell_type": "code",
   "execution_count": 19,
   "id": "4f92b361-a235-490c-b309-09e46f1c8eec",
   "metadata": {},
   "outputs": [],
   "source": [
    "X_train, X_test, y_train, y_test = X[:-n_test], X[-n_test:], y[:-n_test], y[-n_test:]"
   ]
  },
  {
   "cell_type": "code",
   "execution_count": 20,
   "id": "4eca0269-1898-4320-87ac-bbb171e73195",
   "metadata": {},
   "outputs": [
    {
     "data": {
      "text/plain": [
       "((91, 5, 1), (12, 5, 1), (91,), (12,))"
      ]
     },
     "execution_count": 20,
     "metadata": {},
     "output_type": "execute_result"
    }
   ],
   "source": [
    "X_train.shape, X_test.shape, y_train.shape, y_test.shape"
   ]
  },
  {
   "cell_type": "markdown",
   "id": "273b7e3b-045f-4a9f-8b47-f769b19d5fe8",
   "metadata": {},
   "source": [
    "## LSTM using 2 neurons:"
   ]
  },
  {
   "cell_type": "code",
   "execution_count": 21,
   "id": "8d65a3aa-56cc-4af3-9c67-6596bd8897b1",
   "metadata": {},
   "outputs": [],
   "source": [
    "neurons = 2"
   ]
  },
  {
   "cell_type": "code",
   "execution_count": 43,
   "id": "c5eeb1ca-93d8-45b2-ba9b-f94216a6183a",
   "metadata": {},
   "outputs": [],
   "source": [
    "rseed()  # try to make it reproducible"
   ]
  },
  {
   "cell_type": "markdown",
   "id": "f6584c4a-b528-4395-85e0-2b15d0efdc31",
   "metadata": {},
   "source": [
    "Defines the template. As the dataset of cars has a value at each time step, the last layer has an output. And since the window has 5 values, the input layer has 5 neurons:"
   ]
  },
  {
   "cell_type": "code",
   "execution_count": 24,
   "id": "6837d819-256a-4c56-a721-7e7c8294c10e",
   "metadata": {},
   "outputs": [],
   "source": [
    "model1 = Sequential()\n",
    "model1.add(LSTM(neurons, input_shape=(n_steps, 1)))\n",
    "model1.add(Dense(1))"
   ]
  },
  {
   "cell_type": "code",
   "execution_count": 25,
   "id": "7493dc47-1b14-4ec1-9c50-7639abfcee9b",
   "metadata": {},
   "outputs": [
    {
     "name": "stdout",
     "output_type": "stream",
     "text": [
      "Model: \"sequential_1\"\n",
      "_________________________________________________________________\n",
      " Layer (type)                Output Shape              Param #   \n",
      "=================================================================\n",
      " lstm_1 (LSTM)               (None, 2)                 32        \n",
      "                                                                 \n",
      " dense (Dense)               (None, 1)                 3         \n",
      "                                                                 \n",
      "=================================================================\n",
      "Total params: 35\n",
      "Trainable params: 35\n",
      "Non-trainable params: 0\n",
      "_________________________________________________________________\n"
     ]
    }
   ],
   "source": [
    "model1.summary()"
   ]
  },
  {
   "cell_type": "code",
   "execution_count": 26,
   "id": "0d4b5253-7aeb-48f3-b2e1-0d287b334013",
   "metadata": {},
   "outputs": [
    {
     "data": {
      "image/png": "[encoded data removed]",
      "text/plain": [
       "<IPython.core.display.Image object>"
      ]
     },
     "execution_count": 26,
     "metadata": {},
     "output_type": "execute_result"
    }
   ],
   "source": [
    "plot_model(model1, show_shapes=True, show_layer_activations=True, dpi=72)"
   ]
  },
  {
   "cell_type": "markdown",
   "id": "087dd096-d779-480e-917d-d790d109e42c",
   "metadata": {},
   "source": [
    "Compiles the model. \"SGD\" is the gradient descent (with momentum) optimizer. Metrics are also computed during training:"
   ]
  },
  {
   "cell_type": "code",
   "execution_count": 27,
   "id": "af9f65a2-1355-4c45-ae85-99b81a72ec5b",
   "metadata": {},
   "outputs": [],
   "source": [
    "model1.compile(optimizer='sgd', loss='mse', metrics=['mae'])"
   ]
  },
  {
   "cell_type": "markdown",
   "id": "5101775c-c594-4177-8280-9972c5751bab",
   "metadata": {},
   "source": [
    "Training including validation data:"
   ]
  },
  {
   "cell_type": "code",
   "execution_count": 28,
   "id": "4f490349-3070-40b4-a622-e921c38019bb",
   "metadata": {
    "scrolled": true,
    "tags": []
   },
   "outputs": [
    {
     "name": "stdout",
     "output_type": "stream",
     "text": [
      "Epoch 1/100\n"
     ]
    },
    {
     "name": "stderr",
     "output_type": "stream",
     "text": [
      "2022-08-19 11:25:35.731818: I tensorflow/stream_executor/cuda/cuda_dnn.cc:384] Loaded cuDNN version 8100\n"
     ]
    },
    {
     "name": "stdout",
     "output_type": "stream",
     "text": [
      "3/3 - 3s - loss: 216155328.0000 - mae: 14033.0361 - val_loss: 316329120.0000 - val_mae: 17387.1562 - 3s/epoch - 1s/step\n",
      "Epoch 2/100\n",
      "3/3 - 0s - loss: 193692016.0000 - mae: 13202.4893 - val_loss: 289496864.0000 - val_mae: 16597.6191 - 37ms/epoch - 12ms/step\n",
      "Epoch 3/100\n",
      "3/3 - 0s - loss: 173808112.0000 - mae: 12431.5059 - val_loss: 265321872.0000 - val_mae: 15852.6328 - 40ms/epoch - 13ms/step\n",
      "Epoch 4/100\n",
      "3/3 - 0s - loss: 156179376.0000 - mae: 11698.9922 - val_loss: 243631744.0000 - val_mae: 15153.0811 - 34ms/epoch - 11ms/step\n",
      "Epoch 5/100\n",
      "3/3 - 0s - loss: 140549456.0000 - mae: 11025.6650 - val_loss: 223932032.0000 - val_mae: 14488.4834 - 38ms/epoch - 13ms/step\n",
      "Epoch 6/100\n",
      "3/3 - 0s - loss: 126665128.0000 - mae: 10350.9385 - val_loss: 206441648.0000 - val_mae: 13871.7607 - 33ms/epoch - 11ms/step\n",
      "Epoch 7/100\n",
      "3/3 - 0s - loss: 114484280.0000 - mae: 9746.5859 - val_loss: 190670720.0000 - val_mae: 13291.1562 - 38ms/epoch - 13ms/step\n",
      "Epoch 8/100\n",
      "3/3 - 0s - loss: 103657008.0000 - mae: 9184.5449 - val_loss: 176338176.0000 - val_mae: 12740.5771 - 37ms/epoch - 12ms/step\n",
      "Epoch 9/100\n",
      "3/3 - 0s - loss: 94028944.0000 - mae: 8643.4189 - val_loss: 163419104.0000 - val_mae: 12223.0615 - 37ms/epoch - 12ms/step\n",
      "Epoch 10/100\n",
      "3/3 - 0s - loss: 85510000.0000 - mae: 8144.5190 - val_loss: 151767344.0000 - val_mae: 11736.7568 - 35ms/epoch - 12ms/step\n",
      "Epoch 11/100\n",
      "3/3 - 0s - loss: 77964184.0000 - mae: 7679.7100 - val_loss: 141246224.0000 - val_mae: 11279.6436 - 36ms/epoch - 12ms/step\n",
      "Epoch 12/100\n",
      "3/3 - 0s - loss: 71297416.0000 - mae: 7247.5840 - val_loss: 131736872.0000 - val_mae: 10849.9307 - 41ms/epoch - 14ms/step\n",
      "Epoch 13/100\n",
      "3/3 - 0s - loss: 65391184.0000 - mae: 6843.3999 - val_loss: 123136552.0000 - val_mae: 10446.0850 - 42ms/epoch - 14ms/step\n",
      "Epoch 14/100\n",
      "3/3 - 0s - loss: 60148912.0000 - mae: 6491.7583 - val_loss: 115282328.0000 - val_mae: 10063.1240 - 39ms/epoch - 13ms/step\n",
      "Epoch 15/100\n",
      "3/3 - 0s - loss: 55488540.0000 - mae: 6161.7178 - val_loss: 108186392.0000 - val_mae: 9704.1494 - 39ms/epoch - 13ms/step\n",
      "Epoch 16/100\n",
      "3/3 - 0s - loss: 51362736.0000 - mae: 5866.2910 - val_loss: 101706088.0000 - val_mae: 9364.3057 - 32ms/epoch - 11ms/step\n",
      "Epoch 17/100\n",
      "3/3 - 0s - loss: 47688344.0000 - mae: 5603.3071 - val_loss: 95781096.0000 - val_mae: 9042.4131 - 38ms/epoch - 13ms/step\n",
      "Epoch 18/100\n",
      "3/3 - 0s - loss: 44418944.0000 - mae: 5356.6504 - val_loss: 90405848.0000 - val_mae: 8740.1357 - 36ms/epoch - 12ms/step\n",
      "Epoch 19/100\n",
      "3/3 - 0s - loss: 41535952.0000 - mae: 5147.0586 - val_loss: 85461384.0000 - val_mae: 8452.5439 - 38ms/epoch - 13ms/step\n",
      "Epoch 20/100\n",
      "3/3 - 0s - loss: 38950244.0000 - mae: 4949.8730 - val_loss: 81025448.0000 - val_mae: 8185.9375 - 38ms/epoch - 13ms/step\n",
      "Epoch 21/100\n",
      "3/3 - 0s - loss: 36708420.0000 - mae: 4783.6582 - val_loss: 77025472.0000 - val_mae: 7937.8579 - 43ms/epoch - 14ms/step\n",
      "Epoch 22/100\n",
      "3/3 - 0s - loss: 34715812.0000 - mae: 4626.4346 - val_loss: 73306600.0000 - val_mae: 7700.0469 - 60ms/epoch - 20ms/step\n",
      "Epoch 23/100\n",
      "3/3 - 0s - loss: 32940116.0000 - mae: 4486.1650 - val_loss: 69954440.0000 - val_mae: 7479.2085 - 38ms/epoch - 13ms/step\n",
      "Epoch 24/100\n",
      "3/3 - 0s - loss: 31381218.0000 - mae: 4353.9678 - val_loss: 66880492.0000 - val_mae: 7270.8052 - 41ms/epoch - 14ms/step\n",
      "Epoch 25/100\n",
      "3/3 - 0s - loss: 30010588.0000 - mae: 4252.3906 - val_loss: 64090324.0000 - val_mae: 7076.3296 - 38ms/epoch - 13ms/step\n",
      "Epoch 26/100\n",
      "3/3 - 0s - loss: 28784826.0000 - mae: 4157.9136 - val_loss: 61507244.0000 - val_mae: 6891.3984 - 40ms/epoch - 13ms/step\n",
      "Epoch 27/100\n",
      "3/3 - 0s - loss: 27698502.0000 - mae: 4071.6450 - val_loss: 59148788.0000 - val_mae: 6718.1030 - 35ms/epoch - 12ms/step\n",
      "Epoch 28/100\n",
      "3/3 - 0s - loss: 26757312.0000 - mae: 4006.1978 - val_loss: 56932820.0000 - val_mae: 6551.1021 - 38ms/epoch - 13ms/step\n",
      "Epoch 29/100\n",
      "3/3 - 0s - loss: 25866904.0000 - mae: 3937.9897 - val_loss: 54878900.0000 - val_mae: 6392.4185 - 40ms/epoch - 13ms/step\n",
      "Epoch 30/100\n",
      "3/3 - 0s - loss: 25086464.0000 - mae: 3877.2263 - val_loss: 53013868.0000 - val_mae: 6244.8364 - 34ms/epoch - 11ms/step\n",
      "Epoch 31/100\n",
      "3/3 - 0s - loss: 24408360.0000 - mae: 3827.6260 - val_loss: 51290240.0000 - val_mae: 6105.2734 - 34ms/epoch - 11ms/step\n",
      "Epoch 32/100\n",
      "3/3 - 0s - loss: 23810008.0000 - mae: 3778.0254 - val_loss: 49740692.0000 - val_mae: 5977.0239 - 40ms/epoch - 13ms/step\n",
      "Epoch 33/100\n",
      "3/3 - 0s - loss: 23290346.0000 - mae: 3736.7322 - val_loss: 48316068.0000 - val_mae: 5856.6367 - 42ms/epoch - 14ms/step\n",
      "Epoch 34/100\n",
      "3/3 - 0s - loss: 22822912.0000 - mae: 3709.6855 - val_loss: 46971740.0000 - val_mae: 5740.7192 - 39ms/epoch - 13ms/step\n",
      "Epoch 35/100\n",
      "3/3 - 0s - loss: 22417790.0000 - mae: 3688.8625 - val_loss: 45795532.0000 - val_mae: 5637.3442 - 37ms/epoch - 12ms/step\n",
      "Epoch 36/100\n",
      "3/3 - 0s - loss: 22074428.0000 - mae: 3667.6218 - val_loss: 44706112.0000 - val_mae: 5539.8765 - 35ms/epoch - 12ms/step\n",
      "Epoch 37/100\n",
      "3/3 - 0s - loss: 21747918.0000 - mae: 3650.6416 - val_loss: 43698732.0000 - val_mae: 5448.1968 - 38ms/epoch - 13ms/step\n",
      "Epoch 38/100\n",
      "3/3 - 0s - loss: 21471728.0000 - mae: 3635.3540 - val_loss: 42706484.0000 - val_mae: 5356.3608 - 39ms/epoch - 13ms/step\n",
      "Epoch 39/100\n",
      "3/3 - 0s - loss: 21203544.0000 - mae: 3624.3352 - val_loss: 41819660.0000 - val_mae: 5272.9282 - 40ms/epoch - 13ms/step\n",
      "Epoch 40/100\n",
      "3/3 - 0s - loss: 20988030.0000 - mae: 3614.5996 - val_loss: 40959336.0000 - val_mae: 5190.7085 - 40ms/epoch - 13ms/step\n",
      "Epoch 41/100\n",
      "3/3 - 0s - loss: 20784552.0000 - mae: 3605.8445 - val_loss: 40146332.0000 - val_mae: 5111.7954 - 33ms/epoch - 11ms/step\n",
      "Epoch 42/100\n",
      "3/3 - 0s - loss: 20587878.0000 - mae: 3596.5583 - val_loss: 39425768.0000 - val_mae: 5040.8218 - 32ms/epoch - 11ms/step\n",
      "Epoch 43/100\n",
      "3/3 - 0s - loss: 20444402.0000 - mae: 3592.7256 - val_loss: 38807620.0000 - val_mae: 4985.6362 - 33ms/epoch - 11ms/step\n",
      "Epoch 44/100\n",
      "3/3 - 0s - loss: 20309412.0000 - mae: 3587.1443 - val_loss: 38226964.0000 - val_mae: 4936.7583 - 35ms/epoch - 12ms/step\n",
      "Epoch 45/100\n",
      "3/3 - 0s - loss: 20212350.0000 - mae: 3579.0879 - val_loss: 37667324.0000 - val_mae: 4889.0903 - 36ms/epoch - 12ms/step\n",
      "Epoch 46/100\n",
      "3/3 - 0s - loss: 20092968.0000 - mae: 3573.6572 - val_loss: 37088240.0000 - val_mae: 4839.1694 - 39ms/epoch - 13ms/step\n",
      "Epoch 47/100\n",
      "3/3 - 0s - loss: 19982902.0000 - mae: 3571.3337 - val_loss: 36605280.0000 - val_mae: 4797.0532 - 38ms/epoch - 13ms/step\n",
      "Epoch 48/100\n",
      "3/3 - 0s - loss: 19931502.0000 - mae: 3570.5879 - val_loss: 36134176.0000 - val_mae: 4755.5356 - 43ms/epoch - 14ms/step\n",
      "Epoch 49/100\n",
      "3/3 - 0s - loss: 19833298.0000 - mae: 3565.6494 - val_loss: 35739604.0000 - val_mae: 4720.4209 - 35ms/epoch - 12ms/step\n",
      "Epoch 50/100\n",
      "3/3 - 0s - loss: 19759096.0000 - mae: 3562.8105 - val_loss: 35357812.0000 - val_mae: 4686.1387 - 38ms/epoch - 13ms/step\n",
      "Epoch 51/100\n",
      "3/3 - 0s - loss: 19705148.0000 - mae: 3560.0535 - val_loss: 34987724.0000 - val_mae: 4652.6133 - 36ms/epoch - 12ms/step\n",
      "Epoch 52/100\n",
      "3/3 - 0s - loss: 19649838.0000 - mae: 3559.2263 - val_loss: 34637444.0000 - val_mae: 4620.6089 - 40ms/epoch - 13ms/step\n",
      "Epoch 53/100\n",
      "3/3 - 0s - loss: 19606550.0000 - mae: 3558.5872 - val_loss: 34338212.0000 - val_mae: 4593.0527 - 43ms/epoch - 14ms/step\n",
      "Epoch 54/100\n",
      "3/3 - 0s - loss: 19562926.0000 - mae: 3556.4897 - val_loss: 34022880.0000 - val_mae: 4563.7935 - 39ms/epoch - 13ms/step\n",
      "Epoch 55/100\n",
      "3/3 - 0s - loss: 19528024.0000 - mae: 3555.6860 - val_loss: 33747068.0000 - val_mae: 4538.0112 - 33ms/epoch - 11ms/step\n",
      "Epoch 56/100\n",
      "3/3 - 0s - loss: 19507568.0000 - mae: 3556.9976 - val_loss: 33434582.0000 - val_mae: 4508.5825 - 32ms/epoch - 11ms/step\n",
      "Epoch 57/100\n",
      "3/3 - 0s - loss: 19482408.0000 - mae: 3563.5303 - val_loss: 33236174.0000 - val_mae: 4489.7739 - 36ms/epoch - 12ms/step\n",
      "Epoch 58/100\n",
      "3/3 - 0s - loss: 19440820.0000 - mae: 3562.0027 - val_loss: 33013898.0000 - val_mae: 4468.5874 - 37ms/epoch - 12ms/step\n",
      "Epoch 59/100\n",
      "3/3 - 0s - loss: 19423724.0000 - mae: 3563.6394 - val_loss: 32794538.0000 - val_mae: 4447.5571 - 37ms/epoch - 12ms/step\n",
      "Epoch 60/100\n",
      "3/3 - 0s - loss: 19417768.0000 - mae: 3567.8613 - val_loss: 32587928.0000 - val_mae: 4427.6362 - 38ms/epoch - 13ms/step\n",
      "Epoch 61/100\n",
      "3/3 - 0s - loss: 19379774.0000 - mae: 3568.1375 - val_loss: 32404118.0000 - val_mae: 4409.8203 - 36ms/epoch - 12ms/step\n",
      "Epoch 62/100\n",
      "3/3 - 0s - loss: 19378772.0000 - mae: 3572.9019 - val_loss: 32265296.0000 - val_mae: 4396.3057 - 37ms/epoch - 12ms/step\n",
      "Epoch 63/100\n",
      "3/3 - 0s - loss: 19366772.0000 - mae: 3572.4258 - val_loss: 32114370.0000 - val_mae: 4381.5542 - 37ms/epoch - 12ms/step\n",
      "Epoch 64/100\n",
      "3/3 - 0s - loss: 19350502.0000 - mae: 3574.5618 - val_loss: 31980296.0000 - val_mae: 4368.3989 - 37ms/epoch - 12ms/step\n",
      "Epoch 65/100\n",
      "3/3 - 0s - loss: 19350972.0000 - mae: 3577.6587 - val_loss: 31870818.0000 - val_mae: 4357.6196 - 36ms/epoch - 12ms/step\n",
      "Epoch 66/100\n",
      "3/3 - 0s - loss: 19325700.0000 - mae: 3573.9409 - val_loss: 31712550.0000 - val_mae: 4341.9785 - 40ms/epoch - 13ms/step\n",
      "Epoch 67/100\n",
      "3/3 - 0s - loss: 19317170.0000 - mae: 3575.9282 - val_loss: 31553642.0000 - val_mae: 4326.2036 - 35ms/epoch - 12ms/step\n",
      "Epoch 68/100\n",
      "3/3 - 0s - loss: 19310486.0000 - mae: 3578.9512 - val_loss: 31436686.0000 - val_mae: 4314.5479 - 38ms/epoch - 13ms/step\n",
      "Epoch 69/100\n",
      "3/3 - 0s - loss: 19298502.0000 - mae: 3579.9678 - val_loss: 31312118.0000 - val_mae: 4302.0903 - 35ms/epoch - 12ms/step\n",
      "Epoch 70/100\n",
      "3/3 - 0s - loss: 19293082.0000 - mae: 3580.5256 - val_loss: 31180416.0000 - val_mae: 4288.8696 - 38ms/epoch - 13ms/step\n",
      "Epoch 71/100\n",
      "3/3 - 0s - loss: 19293202.0000 - mae: 3583.7156 - val_loss: 31074970.0000 - val_mae: 4278.2490 - 39ms/epoch - 13ms/step\n",
      "Epoch 72/100\n",
      "3/3 - 0s - loss: 19289882.0000 - mae: 3586.4883 - val_loss: 31012600.0000 - val_mae: 4271.9507 - 41ms/epoch - 14ms/step\n",
      "Epoch 73/100\n",
      "3/3 - 0s - loss: 19308396.0000 - mae: 3589.9917 - val_loss: 30966096.0000 - val_mae: 4267.2476 - 35ms/epoch - 12ms/step\n",
      "Epoch 74/100\n",
      "3/3 - 0s - loss: 19289282.0000 - mae: 3586.2009 - val_loss: 30850206.0000 - val_mae: 4255.4990 - 37ms/epoch - 12ms/step\n",
      "Epoch 75/100\n",
      "3/3 - 0s - loss: 19281070.0000 - mae: 3588.0928 - val_loss: 30772922.0000 - val_mae: 4247.6416 - 38ms/epoch - 13ms/step\n",
      "Epoch 76/100\n",
      "3/3 - 0s - loss: 19265780.0000 - mae: 3588.2847 - val_loss: 30698688.0000 - val_mae: 4240.0776 - 38ms/epoch - 13ms/step\n",
      "Epoch 77/100\n",
      "3/3 - 0s - loss: 19295278.0000 - mae: 3593.6797 - val_loss: 30683488.0000 - val_mae: 4238.5264 - 37ms/epoch - 12ms/step\n",
      "Epoch 78/100\n",
      "3/3 - 0s - loss: 19281392.0000 - mae: 3593.3201 - val_loss: 30646104.0000 - val_mae: 4234.7085 - 37ms/epoch - 12ms/step\n",
      "Epoch 79/100\n",
      "3/3 - 0s - loss: 19261678.0000 - mae: 3588.6875 - val_loss: 30567632.0000 - val_mae: 4226.6812 - 38ms/epoch - 13ms/step\n",
      "Epoch 80/100\n",
      "3/3 - 0s - loss: 19263740.0000 - mae: 3590.0439 - val_loss: 30481330.0000 - val_mae: 4217.8315 - 38ms/epoch - 13ms/step\n",
      "Epoch 81/100\n",
      "3/3 - 0s - loss: 19260842.0000 - mae: 3592.3860 - val_loss: 30432642.0000 - val_mae: 4212.8281 - 36ms/epoch - 12ms/step\n",
      "Epoch 82/100\n",
      "3/3 - 0s - loss: 19257170.0000 - mae: 3592.1855 - val_loss: 30393030.0000 - val_mae: 4208.7515 - 40ms/epoch - 13ms/step\n",
      "Epoch 83/100\n",
      "3/3 - 0s - loss: 19279346.0000 - mae: 3593.7324 - val_loss: 30308594.0000 - val_mae: 4200.0474 - 35ms/epoch - 12ms/step\n",
      "Epoch 84/100\n",
      "3/3 - 0s - loss: 19253278.0000 - mae: 3593.8625 - val_loss: 30274232.0000 - val_mae: 4196.4985 - 36ms/epoch - 12ms/step\n",
      "Epoch 85/100\n",
      "3/3 - 0s - loss: 19262576.0000 - mae: 3593.2871 - val_loss: 30209506.0000 - val_mae: 4189.8032 - 38ms/epoch - 13ms/step\n",
      "Epoch 86/100\n",
      "3/3 - 0s - loss: 19248970.0000 - mae: 3594.4856 - val_loss: 30163544.0000 - val_mae: 4185.0405 - 37ms/epoch - 12ms/step\n",
      "Epoch 87/100\n",
      "3/3 - 0s - loss: 19252674.0000 - mae: 3596.6909 - val_loss: 30146094.0000 - val_mae: 4183.2310 - 37ms/epoch - 12ms/step\n",
      "Epoch 88/100\n",
      "3/3 - 0s - loss: 19250754.0000 - mae: 3596.4038 - val_loss: 30115360.0000 - val_mae: 4180.0405 - 36ms/epoch - 12ms/step\n",
      "Epoch 89/100\n",
      "3/3 - 0s - loss: 19266394.0000 - mae: 3597.6309 - val_loss: 30050042.0000 - val_mae: 4173.2515 - 37ms/epoch - 12ms/step\n",
      "Epoch 90/100\n",
      "3/3 - 0s - loss: 19270254.0000 - mae: 3597.6604 - val_loss: 29975224.0000 - val_mae: 4165.4565 - 36ms/epoch - 12ms/step\n",
      "Epoch 91/100\n",
      "3/3 - 0s - loss: 19260604.0000 - mae: 3596.6340 - val_loss: 29915550.0000 - val_mae: 4159.2271 - 34ms/epoch - 11ms/step\n",
      "Epoch 92/100\n",
      "3/3 - 0s - loss: 19243958.0000 - mae: 3599.1570 - val_loss: 29899138.0000 - val_mae: 4157.5112 - 40ms/epoch - 13ms/step\n",
      "Epoch 93/100\n",
      "3/3 - 0s - loss: 19245840.0000 - mae: 3599.1538 - val_loss: 29876752.0000 - val_mae: 4155.1704 - 37ms/epoch - 12ms/step\n",
      "Epoch 94/100\n",
      "3/3 - 0s - loss: 19248258.0000 - mae: 3599.9839 - val_loss: 29865296.0000 - val_mae: 4153.9717 - 37ms/epoch - 12ms/step\n",
      "Epoch 95/100\n",
      "3/3 - 0s - loss: 19260916.0000 - mae: 3599.0007 - val_loss: 29796806.0000 - val_mae: 4147.5698 - 39ms/epoch - 13ms/step\n",
      "Epoch 96/100\n",
      "3/3 - 0s - loss: 19251408.0000 - mae: 3601.9114 - val_loss: 29798558.0000 - val_mae: 4147.7168 - 37ms/epoch - 12ms/step\n",
      "Epoch 97/100\n",
      "3/3 - 0s - loss: 19247022.0000 - mae: 3600.1594 - val_loss: 29769072.0000 - val_mae: 4145.2417 - 37ms/epoch - 12ms/step\n",
      "Epoch 98/100\n",
      "3/3 - 0s - loss: 19248836.0000 - mae: 3601.0183 - val_loss: 29763770.0000 - val_mae: 4144.7964 - 38ms/epoch - 13ms/step\n",
      "Epoch 99/100\n",
      "3/3 - 0s - loss: 19243104.0000 - mae: 3600.9146 - val_loss: 29739002.0000 - val_mae: 4142.7148 - 36ms/epoch - 12ms/step\n",
      "Epoch 100/100\n",
      "3/3 - 0s - loss: 19269584.0000 - mae: 3603.3394 - val_loss: 29723654.0000 - val_mae: 4141.4243 - 36ms/epoch - 12ms/step\n"
     ]
    }
   ],
   "source": [
    "history = model1.fit(X_train, y_train, epochs=100, \n",
    "                     verbose=2, validation_data=(X_test, y_test))"
   ]
  },
  {
   "cell_type": "markdown",
   "id": "11b2d545-ca4b-4517-a4bd-dbdfe8bbb1c7",
   "metadata": {},
   "source": [
    "Returns the loss values and metrics for the model:"
   ]
  },
  {
   "cell_type": "code",
   "execution_count": 29,
   "id": "044b97d7-bd31-4ddd-8d3c-5df6bc50e609",
   "metadata": {},
   "outputs": [],
   "source": [
    "mse, mae = model1.evaluate(X_test, y_test, verbose=0)"
   ]
  },
  {
   "cell_type": "markdown",
   "id": "ed9ef2d8-ad05-4db9-a12c-19718ad9bcd6",
   "metadata": {},
   "source": [
    "MAE = mean squared error. Evaluates the absolute distance of the observations (the entries in the dataset) to the predictions in a regression by taking the average across all observations. Uses the absolute value of distances so that negative errors are correctly accounted for.\n",
    "\n",
    "RMSE = root mean square error. Returns the MSE error to the original unit, using the square root, and keeping the property of penalizing higher errors."
   ]
  },
  {
   "cell_type": "code",
   "execution_count": 30,
   "id": "ea8d8a02-ad46-44d3-aa00-e2329511db63",
   "metadata": {},
   "outputs": [
    {
     "name": "stdout",
     "output_type": "stream",
     "text": [
      "RMSE: 5451.940, MAE: 4141.424\n"
     ]
    }
   ],
   "source": [
    "print('RMSE: %.3f, MAE: %.3f' % (sqrt(mse), mae))"
   ]
  },
  {
   "cell_type": "markdown",
   "id": "4f4e84c0-50e4-48ed-a30e-6e55e0144d9c",
   "metadata": {},
   "source": [
    "## Prediction"
   ]
  },
  {
   "cell_type": "markdown",
   "id": "6eaf0a53-5231-492b-a714-ca7691775ff9",
   "metadata": {},
   "source": [
    "Predicts what the next value in the sequence is:"
   ]
  },
  {
   "cell_type": "code",
   "execution_count": 32,
   "id": "f9f49912-8405-41f9-b645-0f1d0d9b9b07",
   "metadata": {},
   "outputs": [
    {
     "name": "stdout",
     "output_type": "stream",
     "text": [
      "1/1 [==============================] - 0s 402ms/step\n"
     ]
    }
   ],
   "source": [
    "o = model1.predict(prever)[0][0]"
   ]
  },
  {
   "cell_type": "code",
   "execution_count": 33,
   "id": "5c61d16e-4303-427a-a1d4-34b67c7af4fd",
   "metadata": {},
   "outputs": [
    {
     "name": "stdout",
     "output_type": "stream",
     "text": [
      "Predição: 14264.9, Real: 14577.0, Erro: 2.2%\n"
     ]
    }
   ],
   "source": [
    "print(f'Predição: {o:.1f}, Real: {real:.1f}, Erro: {100*(real/o-1):.1f}%')"
   ]
  },
  {
   "cell_type": "markdown",
   "id": "8c4b96cf-8166-400b-badd-ef12c7ec6f85",
   "metadata": {},
   "source": [
    "# Learning curve"
   ]
  },
  {
   "cell_type": "code",
   "execution_count": 37,
   "id": "76ac8ad6-b636-48be-8e22-68e5036105a3",
   "metadata": {},
   "outputs": [
    {
     "data": {
      "image/png": "[encoded data removed]",
      "text/plain": [
       "<Figure size 432x288 with 1 Axes>"
      ]
     },
     "metadata": {
      "needs_background": "light"
     },
     "output_type": "display_data"
    }
   ],
   "source": [
    "curva()"
   ]
  },
  {
   "cell_type": "markdown",
   "id": "9e5b89ae-1fe1-4f09-9da9-db92f2857d0e",
   "metadata": {},
   "source": [
    "## Same experiment as before, now with 3 neurons"
   ]
  },
  {
   "cell_type": "code",
   "execution_count": 38,
   "id": "4a6dcaaf-2caf-43de-8625-a780198062a8",
   "metadata": {},
   "outputs": [
    {
     "name": "stdout",
     "output_type": "stream",
     "text": [
      "RMSE: 5451.940, MAE: 4141.424\n",
      "1/1 [==============================] - 0s 367ms/step\n",
      "Predição: 14264.9, Real: 14577.0, Erro: 2.2%\n"
     ]
    },
    {
     "data": {
      "image/png": "[encoded data removed]",
      "text/plain": [
       "<Figure size 432x288 with 1 Axes>"
      ]
     },
     "metadata": {
      "needs_background": "light"
     },
     "output_type": "display_data"
    }
   ],
   "source": [
    "neurons = 3\n",
    "rseed()\n",
    "model4 = Sequential()\n",
    "model4.add(LSTM(neurons, input_shape=(n_steps, 1)))\n",
    "model4.add(Dense(1))\n",
    "model4.compile(loss='mse', optimizer=\"sgd\", metrics=['mae'])\n",
    "history = model4.fit(X_train, y_train, epochs=100,\n",
    "                     verbose=0, validation_data=(X_test, y_test))\n",
    "mse, mae = model4.evaluate(X_test, y_test, verbose=0)\n",
    "print('RMSE: %.3f, MAE: %.3f' % (sqrt(mse), mae))\n",
    "o = model4.predict(prever)[0][0]\n",
    "print(f'Predição: {o:.1f}, Real: {real:.1f}, Erro: {100*(real/o-1):.1f}%')\n",
    "curva()"
   ]
  },
  {
   "cell_type": "markdown",
   "id": "b6d783d9-63d0-4e3f-ad86-883f059813be",
   "metadata": {},
   "source": [
    "Regarding 2 neurons, the error remained."
   ]
  },
  {
   "cell_type": "markdown",
   "id": "8159d68c-9700-4835-b795-e0ba973d1d02",
   "metadata": {},
   "source": [
    "## 4 neurons"
   ]
  },
  {
   "cell_type": "code",
   "execution_count": 39,
   "id": "831a939b-2f7b-4f53-81fb-90cf4a26c049",
   "metadata": {},
   "outputs": [
    {
     "name": "stdout",
     "output_type": "stream",
     "text": [
      "RMSE: 5423.858, MAE: 4115.611\n",
      "1/1 [==============================] - 1s 511ms/step\n",
      "Predição: 14303.6, Real: 14577.0, Erro: 1.9%\n"
     ]
    },
    {
     "data": {
      "image/png": "[encoded data removed]",
      "text/plain": [
       "<Figure size 432x288 with 1 Axes>"
      ]
     },
     "metadata": {
      "needs_background": "light"
     },
     "output_type": "display_data"
    }
   ],
   "source": [
    "neurons = 4\n",
    "rseed()\n",
    "model4 = Sequential()\n",
    "model4.add(LSTM(neurons, input_shape=(n_steps, 1)))\n",
    "model4.add(Dense(1))\n",
    "model4.compile(loss='mse', optimizer=\"sgd\", metrics=['mae'])\n",
    "history = model4.fit(X_train, y_train, epochs=100,\n",
    "                     verbose=0, validation_data=(X_test, y_test))\n",
    "mse, mae = model4.evaluate(X_test, y_test, verbose=0)\n",
    "print('RMSE: %.3f, MAE: %.3f' % (sqrt(mse), mae))\n",
    "o = model4.predict(prever)[0][0]\n",
    "print(f'Predição: {o:.1f}, Real: {real:.1f}, Erro: {100*(real/o-1):.1f}%')\n",
    "curva()"
   ]
  },
  {
   "cell_type": "markdown",
   "id": "b48d84f4-dd13-48d3-b6ce-45cbf2cd2ea4",
   "metadata": {},
   "source": [
    "With 4 neurons the error decreases."
   ]
  },
  {
   "cell_type": "markdown",
   "id": "f49850b3-2bb0-4b27-8469-7902ce992569",
   "metadata": {},
   "source": [
    "## 8 neurons"
   ]
  },
  {
   "cell_type": "code",
   "execution_count": 40,
   "id": "18b8758b-dfc0-45e1-81a1-46bd3ada5c29",
   "metadata": {},
   "outputs": [
    {
     "name": "stdout",
     "output_type": "stream",
     "text": [
      "RMSE: 5422.288, MAE: 4114.165\n",
      "1/1 [==============================] - 0s 371ms/step\n",
      "Predição: 14305.8, Real: 14577.0, Erro: 1.9%\n"
     ]
    },
    {
     "data": {
      "image/png": "[encoded data removed]",
      "text/plain": [
       "<Figure size 432x288 with 1 Axes>"
      ]
     },
     "metadata": {
      "needs_background": "light"
     },
     "output_type": "display_data"
    }
   ],
   "source": [
    "neurons = 8\n",
    "rseed()\n",
    "model4 = Sequential()\n",
    "model4.add(LSTM(neurons, input_shape=(n_steps, 1)))\n",
    "model4.add(Dense(1))\n",
    "model4.compile(loss='mse', optimizer=\"sgd\", metrics=['mae'])\n",
    "history = model4.fit(X_train, y_train, epochs=100,\n",
    "                     verbose=0, validation_data=(X_test, y_test))\n",
    "mse, mae = model4.evaluate(X_test, y_test, verbose=0)\n",
    "print('RMSE: %.3f, MAE: %.3f' % (sqrt(mse), mae))\n",
    "o = model4.predict(prever)[0][0]\n",
    "print(f'Predição: {o:.1f}, Real: {real:.1f}, Erro: {100*(real/o-1):.1f}%')\n",
    "curva()"
   ]
  },
  {
   "cell_type": "markdown",
   "id": "3bb66626-bbfb-4fd5-8689-a49682a5f84e",
   "metadata": {},
   "source": [
    "With 8, the error does not decrease. For this particular model dataset, the best would be to use 4 neurons in the LSTM layer as it is the minimum that presents the best result in the tests performed."
   ]
  },
  {
   "cell_type": "markdown",
   "id": "ee2cb024-5a9e-4945-9ebf-c639514b5f17",
   "metadata": {},
   "source": [
    "# References"
   ]
  },
  {
   "cell_type": "markdown",
   "id": "bad9cc56-e19c-4a2c-9718-322c609a11aa",
   "metadata": {},
   "source": [
    "- [1] Notas de aula. CAP-351. Prof. M. G. Quiles\n",
    "- [2] https://machinelearningmastery.com/seasonal-persistence-forecasting-python\n",
    "- [3] https://machinelearningmastery.com/tensorflow-tutorial-deep-learning-with-tf-keras\n",
    "- [4] https://github.com/senadkurtisi/Univariate-Time-Series-Forecasting\n",
    "- [5] https://pkg.yangzhuoranyang.com/tsdl/index.html\n",
    "- [6] https://www.kaggle.com/datasets/dinirimameev/monthly-car-sales-in-quebec-1960\n",
    "- [7] Abraham, B., and Ledolter, J. (1983). Statistical Methods for Forecasting. ISBN: 9780471867647,0471867640\n",
    "- [8] Government of Canada Publications. NEW MOTOR VEHICLE SALES AND MOTOR VEHICLE FINANCING 1960.\n",
    "- https://publications.gc.ca/site/archivee-archived.html?url=https://publications.gc.ca/collections/collection_2018/statcan/63-208/CS63-208-1960-eng.pdf\n",
    "- [9] https://towardsdatascience.com/predicting-sales-611cb5a252de\n",
    "- [10] https://machinelearningmastery.com/time-series-forecasting-long-short-term-memory-network-python/"
   ]
  }
 ],
 "metadata": {
  "kernelspec": {
   "display_name": "tf",
   "language": "python",
   "name": "tf"
  },
  "language_info": {
   "codemirror_mode": {
    "name": "ipython",
    "version": 3
   },
   "file_extension": ".py",
   "mimetype": "text/x-python",
   "name": "python",
   "nbconvert_exporter": "python",
   "pygments_lexer": "ipython3",
   "version": "3.11.3"
  }
 },
 "nbformat": 4,
 "nbformat_minor": 5
}
