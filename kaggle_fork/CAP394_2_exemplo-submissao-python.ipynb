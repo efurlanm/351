{
 "cells": [
  {
   "cell_type": "markdown",
   "id": "4281d084-ddea-4ab6-b482-60cd4fe5ef46",
   "metadata": {},
   "source": [
    "Este Notebook contém minhas anotações, e é baseado no original disponível em: https://www.kaggle.com/code/phelpsmemo/cap394-exemplo-submissao-python"
   ]
  },
  {
   "cell_type": "markdown",
   "id": "24cef1c6",
   "metadata": {
    "papermill": {
     "duration": 0.009356,
     "end_time": "2021-08-11T01:35:37.579705",
     "exception": false,
     "start_time": "2021-08-11T01:35:37.570349",
     "status": "completed"
    },
    "tags": []
   },
   "source": [
    "## CAP 394 - Exemplo de submissão de resultado ao Kaggle\n",
    "\n",
    "Este notebook apresenta a forma com que os dados devem ser organizados para a submissão no Kaggle. Note que, este exemplo apenas apresenta como os dados devem ser organizados para a submissão, não tratando do desenvolvimento de uma análise dos dados propriamente dita.\n",
    "\n",
    "> A submissão é utilizada para que você possa avaliar a generalização de seu modelo e comparar seus resultados com os colegas da aula.\n"
   ]
  },
  {
   "cell_type": "code",
   "execution_count": 1,
   "id": "a10ec38d",
   "metadata": {
    "execution": {
     "iopub.execute_input": "2021-08-11T01:35:37.609025Z",
     "iopub.status.busy": "2021-08-11T01:35:37.608168Z",
     "iopub.status.idle": "2021-08-11T01:35:37.610859Z",
     "shell.execute_reply": "2021-08-11T01:35:37.611320Z",
     "shell.execute_reply.started": "2021-08-11T01:35:14.052701Z"
    },
    "papermill": {
     "duration": 0.023476,
     "end_time": "2021-08-11T01:35:37.611577",
     "exception": false,
     "start_time": "2021-08-11T01:35:37.588101",
     "status": "completed"
    },
    "tags": []
   },
   "outputs": [],
   "source": [
    "import numpy as np\n",
    "import pandas as pd"
   ]
  },
  {
   "cell_type": "markdown",
   "id": "65d401ca",
   "metadata": {
    "papermill": {
     "duration": 0.007704,
     "end_time": "2021-08-11T01:35:37.627148",
     "exception": false,
     "start_time": "2021-08-11T01:35:37.619444",
     "status": "completed"
    },
    "tags": []
   },
   "source": [
    "### 1. Importação dos dados"
   ]
  },
  {
   "cell_type": "markdown",
   "id": "98177869",
   "metadata": {
    "papermill": {
     "duration": 0.009618,
     "end_time": "2021-08-11T01:35:37.644473",
     "exception": false,
     "start_time": "2021-08-11T01:35:37.634855",
     "status": "completed"
    },
    "tags": []
   },
   "source": [
    "**Treino**"
   ]
  },
  {
   "cell_type": "code",
   "execution_count": 2,
   "id": "86992d41",
   "metadata": {
    "execution": {
     "iopub.execute_input": "2021-08-11T01:35:37.669048Z",
     "iopub.status.busy": "2021-08-11T01:35:37.668434Z",
     "iopub.status.idle": "2021-08-11T01:35:37.811579Z",
     "shell.execute_reply": "2021-08-11T01:35:37.812060Z",
     "shell.execute_reply.started": "2021-08-11T01:35:14.067037Z"
    },
    "papermill": {
     "duration": 0.159205,
     "end_time": "2021-08-11T01:35:37.812236",
     "exception": false,
     "start_time": "2021-08-11T01:35:37.653031",
     "status": "completed"
    },
    "tags": []
   },
   "outputs": [
    {
     "data": {
      "text/html": [
       "<div>\n",
       "<style scoped>\n",
       "    .dataframe tbody tr th:only-of-type {\n",
       "        vertical-align: middle;\n",
       "    }\n",
       "\n",
       "    .dataframe tbody tr th {\n",
       "        vertical-align: top;\n",
       "    }\n",
       "\n",
       "    .dataframe thead th {\n",
       "        text-align: right;\n",
       "    }\n",
       "</style>\n",
       "<table border=\"1\" class=\"dataframe\">\n",
       "  <thead>\n",
       "    <tr style=\"text-align: right;\">\n",
       "      <th></th>\n",
       "      <th>id</th>\n",
       "      <th>b1</th>\n",
       "      <th>b2</th>\n",
       "      <th>b3</th>\n",
       "      <th>b4</th>\n",
       "      <th>b5</th>\n",
       "      <th>b6</th>\n",
       "      <th>b7</th>\n",
       "      <th>b8</th>\n",
       "      <th>b9</th>\n",
       "      <th>...</th>\n",
       "      <th>pred_minus_obs_S_b3</th>\n",
       "      <th>pred_minus_obs_S_b4</th>\n",
       "      <th>pred_minus_obs_S_b5</th>\n",
       "      <th>pred_minus_obs_S_b6</th>\n",
       "      <th>pred_minus_obs_S_b7</th>\n",
       "      <th>pred_minus_obs_S_b8</th>\n",
       "      <th>pred_minus_obs_S_b9</th>\n",
       "      <th>label</th>\n",
       "      <th>X</th>\n",
       "      <th>Y</th>\n",
       "    </tr>\n",
       "  </thead>\n",
       "  <tbody>\n",
       "    <tr>\n",
       "      <th>0</th>\n",
       "      <td>454</td>\n",
       "      <td>54</td>\n",
       "      <td>28</td>\n",
       "      <td>51</td>\n",
       "      <td>93</td>\n",
       "      <td>56</td>\n",
       "      <td>100</td>\n",
       "      <td>80</td>\n",
       "      <td>24</td>\n",
       "      <td>55</td>\n",
       "      <td>...</td>\n",
       "      <td>-3.99</td>\n",
       "      <td>-23.22</td>\n",
       "      <td>-0.94</td>\n",
       "      <td>-4.30</td>\n",
       "      <td>-23.22</td>\n",
       "      <td>-1.69</td>\n",
       "      <td>-4.55</td>\n",
       "      <td>s</td>\n",
       "      <td>140.269397</td>\n",
       "      <td>36.897564</td>\n",
       "    </tr>\n",
       "    <tr>\n",
       "      <th>1</th>\n",
       "      <td>457</td>\n",
       "      <td>54</td>\n",
       "      <td>29</td>\n",
       "      <td>51</td>\n",
       "      <td>88</td>\n",
       "      <td>51</td>\n",
       "      <td>91</td>\n",
       "      <td>95</td>\n",
       "      <td>24</td>\n",
       "      <td>55</td>\n",
       "      <td>...</td>\n",
       "      <td>-4.09</td>\n",
       "      <td>-22.24</td>\n",
       "      <td>-1.01</td>\n",
       "      <td>-4.93</td>\n",
       "      <td>-17.81</td>\n",
       "      <td>-0.53</td>\n",
       "      <td>-2.98</td>\n",
       "      <td>s</td>\n",
       "      <td>140.246424</td>\n",
       "      <td>36.403438</td>\n",
       "    </tr>\n",
       "    <tr>\n",
       "      <th>2</th>\n",
       "      <td>261</td>\n",
       "      <td>59</td>\n",
       "      <td>30</td>\n",
       "      <td>52</td>\n",
       "      <td>90</td>\n",
       "      <td>54</td>\n",
       "      <td>93</td>\n",
       "      <td>80</td>\n",
       "      <td>26</td>\n",
       "      <td>58</td>\n",
       "      <td>...</td>\n",
       "      <td>-5.61</td>\n",
       "      <td>-27.73</td>\n",
       "      <td>-1.15</td>\n",
       "      <td>-5.74</td>\n",
       "      <td>-21.81</td>\n",
       "      <td>-2.39</td>\n",
       "      <td>-5.07</td>\n",
       "      <td>s</td>\n",
       "      <td>140.080862</td>\n",
       "      <td>35.906891</td>\n",
       "    </tr>\n",
       "  </tbody>\n",
       "</table>\n",
       "<p>3 rows × 31 columns</p>\n",
       "</div>"
      ],
      "text/plain": [
       "    id  b1  b2  b3  b4  b5   b6  b7  b8  b9  ...  pred_minus_obs_S_b3  \\\n",
       "0  454  54  28  51  93  56  100  80  24  55  ...                -3.99   \n",
       "1  457  54  29  51  88  51   91  95  24  55  ...                -4.09   \n",
       "2  261  59  30  52  90  54   93  80  26  58  ...                -5.61   \n",
       "\n",
       "   pred_minus_obs_S_b4  pred_minus_obs_S_b5  pred_minus_obs_S_b6  \\\n",
       "0               -23.22                -0.94                -4.30   \n",
       "1               -22.24                -1.01                -4.93   \n",
       "2               -27.73                -1.15                -5.74   \n",
       "\n",
       "   pred_minus_obs_S_b7  pred_minus_obs_S_b8  pred_minus_obs_S_b9  label  \\\n",
       "0               -23.22                -1.69                -4.55      s   \n",
       "1               -17.81                -0.53                -2.98      s   \n",
       "2               -21.81                -2.39                -5.07      s   \n",
       "\n",
       "            X          Y  \n",
       "0  140.269397  36.897564  \n",
       "1  140.246424  36.403438  \n",
       "2  140.080862  35.906891  \n",
       "\n",
       "[3 rows x 31 columns]"
      ]
     },
     "execution_count": 2,
     "metadata": {},
     "output_type": "execute_result"
    }
   ],
   "source": [
    "train_df = pd.read_csv(\"../input/cap-394-exercicio-de-analise-de-dados/treino.csv\")\n",
    "\n",
    "train_df.head(n = 3)"
   ]
  },
  {
   "cell_type": "markdown",
   "id": "bfecbd18",
   "metadata": {
    "papermill": {
     "duration": 0.008127,
     "end_time": "2021-08-11T01:35:37.828965",
     "exception": false,
     "start_time": "2021-08-11T01:35:37.820838",
     "status": "completed"
    },
    "tags": []
   },
   "source": [
    "**Teste**"
   ]
  },
  {
   "cell_type": "code",
   "execution_count": 3,
   "id": "1cc54c03",
   "metadata": {
    "execution": {
     "iopub.execute_input": "2021-08-11T01:35:37.850630Z",
     "iopub.status.busy": "2021-08-11T01:35:37.849975Z",
     "iopub.status.idle": "2021-08-11T01:35:37.882454Z",
     "shell.execute_reply": "2021-08-11T01:35:37.882959Z",
     "shell.execute_reply.started": "2021-08-11T01:35:14.235292Z"
    },
    "papermill": {
     "duration": 0.045622,
     "end_time": "2021-08-11T01:35:37.883124",
     "exception": false,
     "start_time": "2021-08-11T01:35:37.837502",
     "status": "completed"
    },
    "tags": []
   },
   "outputs": [
    {
     "data": {
      "text/html": [
       "<div>\n",
       "<style scoped>\n",
       "    .dataframe tbody tr th:only-of-type {\n",
       "        vertical-align: middle;\n",
       "    }\n",
       "\n",
       "    .dataframe tbody tr th {\n",
       "        vertical-align: top;\n",
       "    }\n",
       "\n",
       "    .dataframe thead th {\n",
       "        text-align: right;\n",
       "    }\n",
       "</style>\n",
       "<table border=\"1\" class=\"dataframe\">\n",
       "  <thead>\n",
       "    <tr style=\"text-align: right;\">\n",
       "      <th></th>\n",
       "      <th>id</th>\n",
       "      <th>b1</th>\n",
       "      <th>b2</th>\n",
       "      <th>b3</th>\n",
       "      <th>b4</th>\n",
       "      <th>b5</th>\n",
       "      <th>b6</th>\n",
       "      <th>b7</th>\n",
       "      <th>b8</th>\n",
       "      <th>b9</th>\n",
       "      <th>...</th>\n",
       "      <th>pred_minus_obs_S_b2</th>\n",
       "      <th>pred_minus_obs_S_b3</th>\n",
       "      <th>pred_minus_obs_S_b4</th>\n",
       "      <th>pred_minus_obs_S_b5</th>\n",
       "      <th>pred_minus_obs_S_b6</th>\n",
       "      <th>pred_minus_obs_S_b7</th>\n",
       "      <th>pred_minus_obs_S_b8</th>\n",
       "      <th>pred_minus_obs_S_b9</th>\n",
       "      <th>X</th>\n",
       "      <th>Y</th>\n",
       "    </tr>\n",
       "  </thead>\n",
       "  <tbody>\n",
       "    <tr>\n",
       "      <th>0</th>\n",
       "      <td>356</td>\n",
       "      <td>79</td>\n",
       "      <td>28</td>\n",
       "      <td>54</td>\n",
       "      <td>117</td>\n",
       "      <td>52</td>\n",
       "      <td>99</td>\n",
       "      <td>93</td>\n",
       "      <td>25</td>\n",
       "      <td>60</td>\n",
       "      <td>...</td>\n",
       "      <td>-1.36</td>\n",
       "      <td>-4.23</td>\n",
       "      <td>-18.09</td>\n",
       "      <td>-0.70</td>\n",
       "      <td>-3.27</td>\n",
       "      <td>-15.79</td>\n",
       "      <td>-1.21</td>\n",
       "      <td>-3.39</td>\n",
       "      <td>140.727803</td>\n",
       "      <td>35.819235</td>\n",
       "    </tr>\n",
       "    <tr>\n",
       "      <th>1</th>\n",
       "      <td>202</td>\n",
       "      <td>46</td>\n",
       "      <td>27</td>\n",
       "      <td>50</td>\n",
       "      <td>83</td>\n",
       "      <td>51</td>\n",
       "      <td>90</td>\n",
       "      <td>76</td>\n",
       "      <td>26</td>\n",
       "      <td>56</td>\n",
       "      <td>...</td>\n",
       "      <td>-2.17</td>\n",
       "      <td>-7.11</td>\n",
       "      <td>-21.12</td>\n",
       "      <td>-1.56</td>\n",
       "      <td>-6.35</td>\n",
       "      <td>-22.19</td>\n",
       "      <td>-4.45</td>\n",
       "      <td>-7.32</td>\n",
       "      <td>140.432835</td>\n",
       "      <td>36.611896</td>\n",
       "    </tr>\n",
       "    <tr>\n",
       "      <th>2</th>\n",
       "      <td>183</td>\n",
       "      <td>56</td>\n",
       "      <td>26</td>\n",
       "      <td>50</td>\n",
       "      <td>94</td>\n",
       "      <td>50</td>\n",
       "      <td>87</td>\n",
       "      <td>83</td>\n",
       "      <td>24</td>\n",
       "      <td>54</td>\n",
       "      <td>...</td>\n",
       "      <td>0.23</td>\n",
       "      <td>-5.97</td>\n",
       "      <td>-14.35</td>\n",
       "      <td>-0.55</td>\n",
       "      <td>-5.40</td>\n",
       "      <td>-14.51</td>\n",
       "      <td>-2.68</td>\n",
       "      <td>-5.15</td>\n",
       "      <td>140.238891</td>\n",
       "      <td>36.089756</td>\n",
       "    </tr>\n",
       "  </tbody>\n",
       "</table>\n",
       "<p>3 rows × 30 columns</p>\n",
       "</div>"
      ],
      "text/plain": [
       "    id  b1  b2  b3   b4  b5  b6  b7  b8  b9  ...  pred_minus_obs_S_b2  \\\n",
       "0  356  79  28  54  117  52  99  93  25  60  ...                -1.36   \n",
       "1  202  46  27  50   83  51  90  76  26  56  ...                -2.17   \n",
       "2  183  56  26  50   94  50  87  83  24  54  ...                 0.23   \n",
       "\n",
       "   pred_minus_obs_S_b3  pred_minus_obs_S_b4  pred_minus_obs_S_b5  \\\n",
       "0                -4.23               -18.09                -0.70   \n",
       "1                -7.11               -21.12                -1.56   \n",
       "2                -5.97               -14.35                -0.55   \n",
       "\n",
       "   pred_minus_obs_S_b6  pred_minus_obs_S_b7  pred_minus_obs_S_b8  \\\n",
       "0                -3.27               -15.79                -1.21   \n",
       "1                -6.35               -22.19                -4.45   \n",
       "2                -5.40               -14.51                -2.68   \n",
       "\n",
       "   pred_minus_obs_S_b9           X          Y  \n",
       "0                -3.39  140.727803  35.819235  \n",
       "1                -7.32  140.432835  36.611896  \n",
       "2                -5.15  140.238891  36.089756  \n",
       "\n",
       "[3 rows x 30 columns]"
      ]
     },
     "execution_count": 3,
     "metadata": {},
     "output_type": "execute_result"
    }
   ],
   "source": [
    "test_df = pd.read_csv(\"../input/cap-394-exercicio-de-analise-de-dados/teste.csv\")\n",
    "\n",
    "test_df.head(n = 3)"
   ]
  },
  {
   "cell_type": "markdown",
   "id": "acabe89e",
   "metadata": {
    "papermill": {
     "duration": 0.008621,
     "end_time": "2021-08-11T01:35:37.900957",
     "exception": false,
     "start_time": "2021-08-11T01:35:37.892336",
     "status": "completed"
    },
    "tags": []
   },
   "source": [
    "### 2. Processamento dos dados\n",
    "\n",
    "> Abaixo, faz-se a **representação** dos dados sendo processados. Para isso, um conjunto de dados de resultado é montado com base na escolha aleatória de classes.\n"
   ]
  },
  {
   "cell_type": "code",
   "execution_count": 4,
   "id": "e4def7ce",
   "metadata": {
    "execution": {
     "iopub.execute_input": "2021-08-11T01:35:37.935443Z",
     "iopub.status.busy": "2021-08-11T01:35:37.934396Z",
     "iopub.status.idle": "2021-08-11T01:35:37.940812Z",
     "shell.execute_reply": "2021-08-11T01:35:37.939330Z",
     "shell.execute_reply.started": "2021-08-11T01:35:14.275978Z"
    },
    "papermill": {
     "duration": 0.031049,
     "end_time": "2021-08-11T01:35:37.940957",
     "exception": false,
     "start_time": "2021-08-11T01:35:37.909908",
     "status": "completed"
    },
    "tags": []
   },
   "outputs": [
    {
     "data": {
      "text/html": [
       "<div>\n",
       "<style scoped>\n",
       "    .dataframe tbody tr th:only-of-type {\n",
       "        vertical-align: middle;\n",
       "    }\n",
       "\n",
       "    .dataframe tbody tr th {\n",
       "        vertical-align: top;\n",
       "    }\n",
       "\n",
       "    .dataframe thead th {\n",
       "        text-align: right;\n",
       "    }\n",
       "</style>\n",
       "<table border=\"1\" class=\"dataframe\">\n",
       "  <thead>\n",
       "    <tr style=\"text-align: right;\">\n",
       "      <th></th>\n",
       "      <th>id</th>\n",
       "      <th>label</th>\n",
       "    </tr>\n",
       "  </thead>\n",
       "  <tbody>\n",
       "    <tr>\n",
       "      <th>0</th>\n",
       "      <td>356</td>\n",
       "      <td>d</td>\n",
       "    </tr>\n",
       "    <tr>\n",
       "      <th>1</th>\n",
       "      <td>202</td>\n",
       "      <td>d</td>\n",
       "    </tr>\n",
       "    <tr>\n",
       "      <th>2</th>\n",
       "      <td>183</td>\n",
       "      <td>o</td>\n",
       "    </tr>\n",
       "  </tbody>\n",
       "</table>\n",
       "</div>"
      ],
      "text/plain": [
       "    id label\n",
       "0  356     d\n",
       "1  202     d\n",
       "2  183     o"
      ]
     },
     "execution_count": 4,
     "metadata": {},
     "output_type": "execute_result"
    }
   ],
   "source": [
    "results = pd.DataFrame({\n",
    "    \"id\": test_df[\"id\"].values,\n",
    "    \"label\": np.random.choice(train_df[\"label\"].unique(), test_df.shape[0])\n",
    "})\n",
    "\n",
    "results.head( n = 3 )"
   ]
  },
  {
   "cell_type": "markdown",
   "id": "64c52a5c",
   "metadata": {
    "papermill": {
     "duration": 0.009411,
     "end_time": "2021-08-11T01:35:37.961364",
     "exception": false,
     "start_time": "2021-08-11T01:35:37.951953",
     "status": "completed"
    },
    "tags": []
   },
   "source": [
    "### 3. Exportando os resultados"
   ]
  },
  {
   "cell_type": "code",
   "execution_count": 5,
   "id": "2ac933d9",
   "metadata": {
    "execution": {
     "iopub.execute_input": "2021-08-11T01:35:37.991369Z",
     "iopub.status.busy": "2021-08-11T01:35:37.990659Z",
     "iopub.status.idle": "2021-08-11T01:35:37.998130Z",
     "shell.execute_reply": "2021-08-11T01:35:37.997509Z",
     "shell.execute_reply.started": "2021-08-11T01:35:14.295339Z"
    },
    "papermill": {
     "duration": 0.026526,
     "end_time": "2021-08-11T01:35:37.998291",
     "exception": false,
     "start_time": "2021-08-11T01:35:37.971765",
     "status": "completed"
    },
    "tags": []
   },
   "outputs": [],
   "source": [
    "results.to_csv(\"results_to_submit.csv\", index = False)"
   ]
  }
 ],
 "metadata": {
  "kernelspec": {
   "display_name": "Python 3 (ipykernel)",
   "language": "python",
   "name": "python3"
  },
  "language_info": {
   "codemirror_mode": {
    "name": "ipython",
    "version": 3
   },
   "file_extension": ".py",
   "mimetype": "text/x-python",
   "name": "python",
   "nbconvert_exporter": "python",
   "pygments_lexer": "ipython3",
   "version": "3.8.13"
  },
  "papermill": {
   "default_parameters": {},
   "duration": 8.563214,
   "end_time": "2021-08-11T01:35:38.617819",
   "environment_variables": {},
   "exception": null,
   "input_path": "__notebook__.ipynb",
   "output_path": "__notebook__.ipynb",
   "parameters": {},
   "start_time": "2021-08-11T01:35:30.054605",
   "version": "2.3.3"
  }
 },
 "nbformat": 4,
 "nbformat_minor": 5
}
